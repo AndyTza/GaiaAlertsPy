{
 "cells": [
  {
   "cell_type": "markdown",
   "metadata": {},
   "source": [
    "# Quickstart"
   ]
  },
  {
   "cell_type": "markdown",
   "metadata": {},
   "source": [
    "With `GaiaAlertsPy` installed, you can easily extract each detection from the Gaia alerts."
   ]
  },
  {
   "cell_type": "code",
   "execution_count": 1,
   "metadata": {},
   "outputs": [
    {
     "name": "stderr",
     "output_type": "stream",
     "text": [
      "WARNING (pytensor.tensor.blas): Using NumPy C-API based implementation for BLAS functions.\n"
     ]
    }
   ],
   "source": [
    "from GaiaAlertsPy import alert as gaap\n",
    "from GaiaAlertsPy import bprpspec\n",
    "from matplotlib import rcParams\n",
    "\n",
    "# fancy plotting\n",
    "import matplotlib.pyplot as plt\n",
    "%matplotlib inline\n",
    "%config InlineBackend.figure_format = \"retina\"\n",
    "from matplotlib import rcParams\n",
    "rcParams['savefig.dpi'] = 550\n",
    "rcParams['font.size'] = 20\n",
    "plt.rc('font', family='serif')"
   ]
  },
  {
   "cell_type": "markdown",
   "metadata": {},
   "source": [
    "For example, let’s download and display the light curve for a specific alert, identified as Gaia20dvt. First, start Python and use the GaiaAlert class to obtain the light curve data for the alert from the data archive:"
   ]
  },
  {
   "cell_type": "code",
   "execution_count": 2,
   "metadata": {},
   "outputs": [],
   "source": [
    "target_id = \"Gaia20dvt\" \n",
    "alert_lc = gaap.GaiaAlert(target_id).query_lightcurve_alert()"
   ]
  },
  {
   "cell_type": "code",
   "execution_count": 3,
   "metadata": {},
   "outputs": [],
   "source": [
    "# Now we can even query the BP_RP information\n",
    "color_lc = gaap.GaiaAlert(target_id).query_bprp_history()"
   ]
  },
  {
   "cell_type": "code",
   "execution_count": 4,
   "metadata": {},
   "outputs": [],
   "source": [
    "sbp, srp = color_lc[0]['bp'], color_lc[0]['rp']"
   ]
  },
  {
   "cell_type": "code",
   "execution_count": 6,
   "metadata": {},
   "outputs": [
    {
     "ename": "IndexError",
     "evalue": "invalid index to scalar variable.",
     "output_type": "error",
     "traceback": [
      "\u001b[0;31m---------------------------------------------------------------------------\u001b[0m",
      "\u001b[0;31mIndexError\u001b[0m                                Traceback (most recent call last)",
      "Cell \u001b[0;32mIn[6], line 1\u001b[0m\n\u001b[0;32m----> 1\u001b[0m bprpspec\u001b[39m.\u001b[39;49mXPStitch(sbp, srp)\u001b[39m.\u001b[39;49mstitch_spectra(mode\u001b[39m=\u001b[39;49m\u001b[39m'\u001b[39;49m\u001b[39mboth\u001b[39;49m\u001b[39m'\u001b[39;49m)\n",
      "File \u001b[0;32m~/anaconda3/envs/cats/lib/python3.9/site-packages/GaiaAlertsPy-0.1.0-py3.9.egg/GaiaAlertsPy/bprpspec.py:119\u001b[0m, in \u001b[0;36mXPStitch.stitch_spectra\u001b[0;34m(self, mode)\u001b[0m\n\u001b[1;32m    116\u001b[0m common_rp_wavelengths \u001b[39m=\u001b[39m (rp_wavelengths \u001b[39m>\u001b[39m \u001b[39m700\u001b[39m) \u001b[39m&\u001b[39m (rp_wavelengths \u001b[39m<\u001b[39m \u001b[39m1000\u001b[39m)\n\u001b[1;32m    118\u001b[0m wavelengths \u001b[39m=\u001b[39m np\u001b[39m.\u001b[39mconcatenate([bp_wavelengths[common_bp_wavelengths], rp_wavelengths[common_rp_wavelengths]])\n\u001b[0;32m--> 119\u001b[0m intensities \u001b[39m=\u001b[39m np\u001b[39m.\u001b[39mconcatenate([bp_spectrum[common_bp_wavelengths], rp_spectrum[common_rp_wavelengths]])\n\u001b[1;32m    121\u001b[0m spectrum_function \u001b[39m=\u001b[39m interp1d(wavelengths, intensities, kind\u001b[39m=\u001b[39m\u001b[39mself\u001b[39m\u001b[39m.\u001b[39minterpolator)\n\u001b[1;32m    122\u001b[0m interpolated_wavelengths \u001b[39m=\u001b[39m np\u001b[39m.\u001b[39mlinspace(\u001b[39mmin\u001b[39m(wavelengths), \u001b[39mmax\u001b[39m(wavelengths), \u001b[39m1000\u001b[39m)\n",
      "\u001b[0;31mIndexError\u001b[0m: invalid index to scalar variable."
     ]
    }
   ],
   "source": [
    "bprpspec.XPStitch(sbp, srp).stitch_spectra(mode='both')"
   ]
  },
  {
   "cell_type": "code",
   "execution_count": 6,
   "metadata": {},
   "outputs": [],
   "source": [
    "import os"
   ]
  },
  {
   "cell_type": "code",
   "execution_count": 7,
   "metadata": {},
   "outputs": [
    {
     "data": {
      "text/plain": [
       "'/Users/andytzanidakis/Desktop/desk/astro_research/open_source_tools/GaiaAlertsPy/docs/source'"
      ]
     },
     "execution_count": 7,
     "metadata": {},
     "output_type": "execute_result"
    }
   ],
   "source": [
    "os.getcwd()"
   ]
  }
 ],
 "metadata": {
  "kernelspec": {
   "display_name": "cats",
   "language": "python",
   "name": "python3"
  },
  "language_info": {
   "codemirror_mode": {
    "name": "ipython",
    "version": 3
   },
   "file_extension": ".py",
   "mimetype": "text/x-python",
   "name": "python",
   "nbconvert_exporter": "python",
   "pygments_lexer": "ipython3",
   "version": "3.9.19"
  },
  "orig_nbformat": 4
 },
 "nbformat": 4,
 "nbformat_minor": 2
}
